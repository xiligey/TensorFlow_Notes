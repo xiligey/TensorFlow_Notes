{
  "cells": [
    {
      "cell_type": "markdown",
      "source": [
        "VGG卷积神经网络是牛津大学2014年提出的模型，这个模型提出后，由于他的简洁性和实用性，马上成为了当时最为流行的卷积神经网络模型。2014年，VGG模型获得了ILSVRC竞赛的第二名，第一名是GoogleNet。VGG-16是深度为16的VGG模型。\n",
        "\n"
      ],
      "metadata": {}
    },
    {
      "cell_type": "markdown",
      "source": [
        "![1](https://i.loli.net/2019/08/11/GpdkhvLUgC6lOn1.png)"
      ],
      "metadata": {}
    },
    {
      "cell_type": "markdown",
      "source": [
        "VGG-16的网络结构：\n",
        "13个卷积层和3个全连接层。所有卷积层的过滤器大小都是3*3，步长为1。作者设置所有卷积层的过滤器大小都为3×3是有原因的，因为卷积核尺度更大的卷积层可以使用多个3×3卷积层来达到同样的效果，比如2个连在一起的3×3卷积层（步长为1）的接收域与5×5的卷积层的接收域一样。作者还给出了更多的解释，首先，使用多个3×3卷积层而不是相同接收域的一层卷积层，可以提高网络的分类能力（相当于添加了隐式的正则化）。第二，可以减少参数数量。"
      ],
      "metadata": {}
    },
    {
      "cell_type": "markdown",
      "source": [
        "5个max-pooling分别在第2、4、7、10、13卷积层后面，池化效果是特征图长宽减少一半（filter 2×2，步长2）"
      ],
      "metadata": {}
    },
    {
      "cell_type": "markdown",
      "source": [
        "每次max-pooling之后，特征图的channel都会乘以2，从64开始，直到512，之后保持不变。"
      ],
      "metadata": {}
    },
    {
      "cell_type": "markdown",
      "source": [
        "之后的全连接层的大小分别为4096、4096、1000，因为改网络的目的是对ILSVRC的1000个类分类，所以网络最后使用softmax层。"
      ],
      "metadata": {}
    },
    {
      "cell_type": "markdown",
      "source": [
        "由于我们开发的是猫狗大战应用，所以需要将最后的分类改变成两类。"
      ],
      "metadata": {}
    },
    {
      "cell_type": "markdown",
      "source": [
        "# 定义功能函数"
      ],
      "metadata": {}
    },
    {
      "cell_type": "markdown",
      "source": [
        "无论什么卷积神经网络，最基础的操作都是卷积、池化和全连接，所以首先定义这3个操作："
      ],
      "metadata": {}
    },
    {
      "cell_type": "code",
      "source": [
        "class vgg16(object):\n",
        "    def conv(self,name,input_data,out_channel):\n",
        "        in_channel - input_data."
      ],
      "outputs": [],
      "execution_count": null,
      "metadata": {
        "collapsed": false,
        "outputHidden": false,
        "inputHidden": false
      }
    }
  ],
  "metadata": {
    "kernel_info": {
      "name": "python3"
    },
    "language_info": {
      "name": "python",
      "version": "3.7.3",
      "mimetype": "text/x-python",
      "codemirror_mode": {
        "name": "ipython",
        "version": 3
      },
      "pygments_lexer": "ipython3",
      "nbconvert_exporter": "python",
      "file_extension": ".py"
    },
    "kernelspec": {
      "name": "python3",
      "language": "python",
      "display_name": "Python 3"
    },
    "nteract": {
      "version": "0.14.4"
    }
  },
  "nbformat": 4,
  "nbformat_minor": 0
}